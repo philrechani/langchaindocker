{
 "cells": [
  {
   "cell_type": "code",
   "execution_count": 2,
   "metadata": {},
   "outputs": [],
   "source": [
    "import chromadb\n",
    "chroma_client = chromadb.HttpClient(host='localhost', port=49151)\n"
   ]
  },
  {
   "cell_type": "code",
   "execution_count": 4,
   "metadata": {},
   "outputs": [],
   "source": [
    "collection = chroma_client.get_or_create_collection(name='testing_python_creation')\n"
   ]
  },
  {
   "cell_type": "code",
   "execution_count": 7,
   "metadata": {},
   "outputs": [
    {
     "name": "stdout",
     "output_type": "stream",
     "text": [
      "{'ids': ['https://abc7chicago.com/post/what-is-crowdstrike-cyber-security-company-linked-global-it-outage/15070675/_chunk_0'], 'embeddings': None, 'metadatas': None, 'documents': ['Crowdstrike outage: What is the cyber security company linked to the global outage? -ABC7 Chicago\\n\\n\\n\\n\\n\\n\\n\\n\\nWATCH LIVEChicago & Suburban Cook Co. North SuburbsWest SuburbsSouth SuburbsNW IndianaEDITLog InWatchAppsLocal News Chicago & Suburban Cook Co. North SuburbsWest SuburbsSouth SuburbsNW IndianaCategories TrafficLocal NewsU. S. & WorldI-TeamPoliticsEntertainmentConsumer & BusinessWeatherSafety TrackerABC7 SportsEquity ReportLocalishRace and CultureChicago ProudShopStation Info About ABC7 ChicagoABC7 Newsteam BiosCommunity JournalismTV ListingsABC7 Jobs - InternshipsContests, Promotions & RulesCommunityshows ABC7 LIVE NewscastsWindy City WeekendOur ChicagoOur AmericaFollow Us:Welcome, Manage MyDisney AccountLog Out TECHNOLOGYWhat is CrowdStrike, the company linked to the global outage?BySean Lyngaas, CNN Friday, July 19, 2024CrowdStrike outage sparks global chaos with airline, bank and other disruptionsThe global computer outage affecting airports, banks and other businesses on Friday appears to stem at least partly from a software update issued by major US cybersecurity firm CrowdStrike, experts told CNN. CrowdStrike told customers early Friday that the outages were caused by \"a defect found in a single content update of its software on Microsoft Windows operating systems, according to a post on X from CEO George Kurtz. The company\\'s engineers took action to address the problem, according to an advisory viewed by CNN, which told customers to reboot their computers and perform other actions if they were still having technical issues. The issue is specific to Falcon, one of CrowdStrike\\'s main software products, and is not impacting Mac or Linux operating systems, according to the advisory. Crowdstrike says Falcon is designed to protect files saved in the cloud. RELATED: CrowdStrike says widespread disruptions were not the result of security incident or cyberattackCrowdStrike\\'s cybersecurity software - used by numerous Fortune 500 companies, including major global banks, healthcare and energy companies - detects and blocks hacking threats. Like other cybersecurity products, the software requires deep-level access to a computer\\'s operating system to scan for those threats. In this case, computers running Microsoft Windows appear to be crashing because of the faulty way a software code update issued by CrowdStrike is interacting with the Windows system. The company said the outage was not caused by a security incident or a cyberattack. Kurtz, in his post, said the issue was identified and isolated, and engineers deployed an update to fix the problem.'], 'data': None, 'uris': None, 'included': ['documents']}\n"
     ]
    }
   ],
   "source": [
    "results = collection.get(\n",
    "    ids=['https://abc7chicago.com/post/what-is-crowdstrike-cyber-security-company-linked-global-it-outage/15070675/_chunk_0'],\n",
    "    include=['documents']\n",
    ")\n",
    "\n",
    "print(results)"
   ]
  },
  {
   "cell_type": "code",
   "execution_count": null,
   "metadata": {},
   "outputs": [],
   "source": []
  }
 ],
 "metadata": {
  "kernelspec": {
   "display_name": "Python 3",
   "language": "python",
   "name": "python3"
  },
  "language_info": {
   "codemirror_mode": {
    "name": "ipython",
    "version": 3
   },
   "file_extension": ".py",
   "mimetype": "text/x-python",
   "name": "python",
   "nbconvert_exporter": "python",
   "pygments_lexer": "ipython3",
   "version": "3.12.3"
  }
 },
 "nbformat": 4,
 "nbformat_minor": 2
}
